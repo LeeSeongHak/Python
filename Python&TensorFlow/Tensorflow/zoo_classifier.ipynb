{
 "cells": [
  {
   "cell_type": "markdown",
   "metadata": {},
   "source": [
    "### 동물원 정보를 읽어들여 동물을 분류하는 프로그램"
   ]
  },
  {
   "cell_type": "code",
   "execution_count": 3,
   "metadata": {},
   "outputs": [],
   "source": [
    "import tensorflow as tf\n",
    "import numpy as np"
   ]
  },
  {
   "cell_type": "code",
   "execution_count": 10,
   "metadata": {},
   "outputs": [],
   "source": [
    "data = np.loadtxt('data-04-zoo.csv', delimiter=',', dtype=np.float32)"
   ]
  },
  {
   "cell_type": "code",
   "execution_count": 11,
   "metadata": {},
   "outputs": [],
   "source": [
    "x_data = data[:, 0:-1]\n",
    "y_data = data[:, [-1]]"
   ]
  },
  {
   "cell_type": "code",
   "execution_count": 12,
   "metadata": {},
   "outputs": [
    {
     "name": "stdout",
     "output_type": "stream",
     "text": [
      "(101, 16) (101, 1)\n"
     ]
    }
   ],
   "source": [
    "print(x_data.shape, y_data.shape)"
   ]
  },
  {
   "cell_type": "code",
   "execution_count": 13,
   "metadata": {},
   "outputs": [],
   "source": [
    "X = tf.placeholder(tf.float32, [None, 16])\n",
    "Y = tf.placeholder(tf.float32, [None, 1]) # 0~6 => 7"
   ]
  },
  {
   "cell_type": "code",
   "execution_count": 16,
   "metadata": {},
   "outputs": [],
   "source": [
    "classes = 7"
   ]
  },
  {
   "cell_type": "code",
   "execution_count": 18,
   "metadata": {},
   "outputs": [],
   "source": [
    "Y_onehot = tf.one_hot(y_data, classes)\n",
    "# 0 => [1 0 0 0 0 0 0]\n",
    "# 1 => [0 1 0 0 0 0 0]"
   ]
  },
  {
   "cell_type": "code",
   "execution_count": 19,
   "metadata": {},
   "outputs": [
    {
     "name": "stdout",
     "output_type": "stream",
     "text": [
      "Tensor(\"one_hot_2:0\", shape=(101, 1, 7), dtype=float32)\n"
     ]
    }
   ],
   "source": [
    "print(Y_onehot)"
   ]
  },
  {
   "cell_type": "code",
   "execution_count": 20,
   "metadata": {},
   "outputs": [],
   "source": [
    "Y_onehot = tf.reshape(Y_onehot, [-1, classes])"
   ]
  },
  {
   "cell_type": "code",
   "execution_count": 21,
   "metadata": {},
   "outputs": [
    {
     "name": "stdout",
     "output_type": "stream",
     "text": [
      "Tensor(\"Reshape:0\", shape=(101, 7), dtype=float32)\n"
     ]
    }
   ],
   "source": [
    "print(Y_onehot)"
   ]
  },
  {
   "cell_type": "code",
   "execution_count": 28,
   "metadata": {},
   "outputs": [],
   "source": [
    "W = tf.Variable(tf.truncated_normal([16, classes]), name='weight')\n",
    "b = tf.Variable(tf.truncated_normal([classes]), name='bias')"
   ]
  },
  {
   "cell_type": "code",
   "execution_count": 29,
   "metadata": {},
   "outputs": [],
   "source": [
    "logits = tf.matmul(X, W) + b # ANN"
   ]
  },
  {
   "cell_type": "code",
   "execution_count": 30,
   "metadata": {},
   "outputs": [],
   "source": [
    "hypothesis = tf.nn.softmax(logits)"
   ]
  },
  {
   "cell_type": "code",
   "execution_count": 34,
   "metadata": {},
   "outputs": [],
   "source": [
    "cost = tf.reduce_mean(tf.nn.softmax_cross_entropy_with_logits_v2(logits = logits, labels=[Y_onehot]))"
   ]
  },
  {
   "cell_type": "code",
   "execution_count": 35,
   "metadata": {},
   "outputs": [],
   "source": [
    "optimizer = tf.train.GradientDescentOptimizer(learning_rate = 0.1).minimize(cost)"
   ]
  },
  {
   "cell_type": "code",
   "execution_count": 36,
   "metadata": {},
   "outputs": [],
   "source": [
    "sess = tf.Session()"
   ]
  },
  {
   "cell_type": "code",
   "execution_count": 37,
   "metadata": {},
   "outputs": [],
   "source": [
    "init = tf.global_variables_initializer()"
   ]
  },
  {
   "cell_type": "code",
   "execution_count": 40,
   "metadata": {},
   "outputs": [],
   "source": [
    "sess.run(init)"
   ]
  },
  {
   "cell_type": "code",
   "execution_count": 45,
   "metadata": {},
   "outputs": [],
   "source": [
    "predict = tf.argmax(hypothesis, 1)\n",
    "is_correct = tf.equal(predict, tf.argmax(Y_onehot, 1))\n",
    "accuracy = tf.reduce_mean(tf.cast(is_correct, tf.float32))"
   ]
  },
  {
   "cell_type": "code",
   "execution_count": 47,
   "metadata": {},
   "outputs": [
    {
     "name": "stdout",
     "output_type": "stream",
     "text": [
      "0 0.006068677 1.0\n",
      "100 0.006039425 1.0\n",
      "200 0.006010427 1.0\n",
      "300 0.005981761 1.0\n",
      "400 0.005953326 1.0\n",
      "500 0.005925196 1.0\n",
      "600 0.005897306 1.0\n",
      "700 0.005869722 1.0\n",
      "800 0.005842334 1.0\n",
      "900 0.005815257 1.0\n",
      "1000 0.0057884282 1.0\n",
      "1100 0.0057618315 1.0\n",
      "1200 0.005735474 1.0\n",
      "1300 0.005709397 1.0\n",
      "1400 0.0056835394 1.0\n",
      "1500 0.005657906 1.0\n",
      "1600 0.0056325183 1.0\n",
      "1700 0.0056073386 1.0\n",
      "1800 0.005582421 1.0\n",
      "1900 0.0055576847 1.0\n",
      "2000 0.0055332 1.0\n",
      "2100 0.005508915 1.0\n",
      "2200 0.0054848525 1.0\n",
      "2300 0.005461018 1.0\n",
      "2400 0.005437359 1.0\n",
      "2500 0.0054139243 1.0\n",
      "2600 0.005390711 1.0\n",
      "2700 0.0053676874 1.0\n",
      "2800 0.0053448547 1.0\n",
      "2900 0.0053222063 1.0\n",
      "3000 0.0052997554 1.0\n",
      "3100 0.0052775056 1.0\n",
      "3200 0.0052554514 1.0\n",
      "3300 0.005233535 1.0\n",
      "3400 0.00521185 1.0\n",
      "3500 0.0051903366 1.0\n",
      "3600 0.005169021 1.0\n",
      "3700 0.00514787 1.0\n",
      "3800 0.0051268833 1.0\n",
      "3900 0.0051060673 1.0\n",
      "4000 0.0050853947 1.0\n",
      "4100 0.005064925 1.0\n",
      "4200 0.005044615 1.0\n",
      "4300 0.0050244955 1.0\n",
      "4400 0.005004509 1.0\n",
      "4500 0.0049846815 1.0\n",
      "4600 0.004965041 1.0\n",
      "4700 0.004945546 1.0\n",
      "4800 0.0049261656 1.0\n",
      "4900 0.0049069915 1.0\n",
      "5000 0.0048879394 1.0\n",
      "5100 0.0048690243 1.0\n",
      "5200 0.004850286 1.0\n",
      "5300 0.0048316964 1.0\n",
      "5400 0.0048132194 1.0\n",
      "5500 0.0047949115 1.0\n",
      "5600 0.00477672 1.0\n",
      "5700 0.004758692 1.0\n",
      "5800 0.0047407565 1.0\n",
      "5900 0.0047230073 1.0\n",
      "6000 0.004705375 1.0\n",
      "6100 0.0046879034 1.0\n",
      "6200 0.0046705185 1.0\n",
      "6300 0.0046532643 1.0\n",
      "6400 0.0046361606 1.0\n",
      "6500 0.004619164 1.0\n",
      "6600 0.0046023233 1.0\n",
      "6700 0.0045855865 1.0\n",
      "6800 0.0045689666 1.0\n",
      "6900 0.0045524794 1.0\n",
      "7000 0.0045361035 1.0\n",
      "7100 0.004519846 1.0\n",
      "7200 0.004503719 1.0\n",
      "7300 0.004487712 1.0\n",
      "7400 0.004471818 1.0\n",
      "7500 0.004456008 1.0\n",
      "7600 0.0044403286 1.0\n",
      "7700 0.004424768 1.0\n",
      "7800 0.004409305 1.0\n",
      "7900 0.0043939645 1.0\n",
      "8000 0.004378694 1.0\n",
      "8100 0.0043635727 1.0\n",
      "8200 0.0043485337 1.0\n",
      "8300 0.004333622 1.0\n",
      "8400 0.004318787 1.0\n",
      "8500 0.0043040826 1.0\n",
      "8600 0.004289486 1.0\n",
      "8700 0.0042749485 1.0\n",
      "8800 0.0042605344 1.0\n",
      "8900 0.0042462233 1.0\n",
      "9000 0.0042319945 1.0\n",
      "9100 0.0042178403 1.0\n",
      "9200 0.0042038234 1.0\n",
      "9300 0.004189886 1.0\n",
      "9400 0.004176064 1.0\n",
      "9500 0.0041623153 1.0\n",
      "9600 0.0041486286 1.0\n",
      "9700 0.004135055 1.0\n",
      "9800 0.004121577 1.0\n",
      "9900 0.004108224 1.0\n",
      "10000 0.004094885 1.0\n",
      "10100 0.004081663 1.0\n",
      "10200 0.004068537 1.0\n",
      "10300 0.004055489 1.0\n",
      "10400 0.0040425113 1.0\n",
      "10500 0.004029663 1.0\n",
      "10600 0.0040168473 1.0\n",
      "10700 0.004004117 1.0\n",
      "10800 0.0039914995 1.0\n",
      "10900 0.003978969 1.0\n",
      "11000 0.0039664796 1.0\n",
      "11100 0.003954075 1.0\n",
      "11200 0.0039417334 1.0\n",
      "11300 0.0039295065 1.0\n",
      "11400 0.0039173546 1.0\n",
      "11500 0.00390527 1.0\n",
      "11600 0.003893267 1.0\n",
      "11700 0.003881341 1.0\n",
      "11800 0.00386944 1.0\n",
      "11900 0.0038576545 1.0\n",
      "12000 0.0038459278 1.0\n",
      "12100 0.0038342942 1.0\n",
      "12200 0.0038227197 1.0\n",
      "12300 0.0038112018 1.0\n",
      "12400 0.0037997991 1.0\n",
      "12500 0.003788415 1.0\n",
      "12600 0.0037771321 1.0\n",
      "12700 0.0037658752 1.0\n",
      "12800 0.0037547343 1.0\n",
      "12900 0.0037436278 1.0\n",
      "13000 0.0037326142 1.0\n",
      "13100 0.0037216498 1.0\n",
      "13200 0.0037107265 1.0\n",
      "13300 0.0036998957 1.0\n",
      "13400 0.0036891303 1.0\n",
      "13500 0.003678433 1.0\n",
      "13600 0.0036677907 1.0\n",
      "13700 0.0036571769 1.0\n",
      "13800 0.0036466531 1.0\n",
      "13900 0.0036362163 1.0\n",
      "14000 0.0036258355 1.0\n",
      "14100 0.0036155053 1.0\n",
      "14200 0.0036051958 1.0\n",
      "14300 0.003594967 1.0\n",
      "14400 0.0035848084 1.0\n",
      "14500 0.0035747043 1.0\n",
      "14600 0.0035646611 1.0\n",
      "14700 0.0035546608 1.0\n",
      "14800 0.0035447213 1.0\n",
      "14900 0.003534872 1.0\n",
      "15000 0.0035250406 1.0\n",
      "15100 0.003515267 1.0\n",
      "15200 0.0035055347 1.0\n",
      "15300 0.003495894 1.0\n",
      "15400 0.0034862966 1.0\n",
      "15500 0.0034767364 1.0\n",
      "15600 0.003467242 1.0\n",
      "15700 0.003457782 1.0\n",
      "15800 0.0034483806 1.0\n",
      "15900 0.003439061 1.0\n",
      "16000 0.003429742 1.0\n",
      "16100 0.003420501 1.0\n",
      "16200 0.003411306 1.0\n",
      "16300 0.003402167 1.0\n",
      "16400 0.0033930643 1.0\n",
      "16500 0.003384031 1.0\n",
      "16600 0.0033750487 1.0\n",
      "16700 0.0033660836 1.0\n",
      "16800 0.0033571864 1.0\n",
      "16900 0.0033483314 1.0\n",
      "17000 0.0033395316 1.0\n",
      "17100 0.0033307706 1.0\n",
      "17200 0.0033220493 1.0\n",
      "17300 0.0033133992 1.0\n",
      "17400 0.0033047935 1.0\n",
      "17500 0.0032961995 1.0\n",
      "17600 0.0032876395 1.0\n",
      "17700 0.003279161 1.0\n",
      "17800 0.0032707131 1.0\n",
      "17900 0.003262351 1.0\n",
      "18000 0.003253974 1.0\n",
      "18100 0.0032456962 1.0\n",
      "18200 0.0032374144 1.0\n",
      "18300 0.0032291869 1.0\n",
      "18400 0.003220983 1.0\n",
      "18500 0.0032128368 1.0\n",
      "18600 0.003204755 1.0\n",
      "18700 0.0031966947 1.0\n",
      "18800 0.0031886685 1.0\n",
      "18900 0.0031806934 1.0\n",
      "19000 0.0031727667 1.0\n",
      "19100 0.003164839 1.0\n",
      "19200 0.0031569924 1.0\n",
      "19300 0.0031491912 1.0\n",
      "19400 0.003141391 1.0\n",
      "19500 0.0031336572 1.0\n",
      "19600 0.0031259658 1.0\n",
      "19700 0.0031182996 1.0\n",
      "19800 0.0031106793 1.0\n",
      "19900 0.003103073 1.0\n"
     ]
    }
   ],
   "source": [
    "for step in range(20000) :\n",
    "    _, cost_val, acc_val = sess.run([optimizer, cost, accuracy], feed_dict={X:x_data, Y:y_data})\n",
    "    \n",
    "    if step % 100 == 0 :\n",
    "        print(step, cost_val, acc_val)    "
   ]
  },
  {
   "cell_type": "code",
   "execution_count": null,
   "metadata": {},
   "outputs": [],
   "source": []
  },
  {
   "cell_type": "code",
   "execution_count": null,
   "metadata": {},
   "outputs": [],
   "source": []
  },
  {
   "cell_type": "code",
   "execution_count": null,
   "metadata": {},
   "outputs": [],
   "source": []
  },
  {
   "cell_type": "code",
   "execution_count": null,
   "metadata": {},
   "outputs": [],
   "source": []
  },
  {
   "cell_type": "code",
   "execution_count": null,
   "metadata": {},
   "outputs": [],
   "source": []
  }
 ],
 "metadata": {
  "kernelspec": {
   "display_name": "Python 3",
   "language": "python",
   "name": "python3"
  },
  "language_info": {
   "codemirror_mode": {
    "name": "ipython",
    "version": 3
   },
   "file_extension": ".py",
   "mimetype": "text/x-python",
   "name": "python",
   "nbconvert_exporter": "python",
   "pygments_lexer": "ipython3",
   "version": "3.7.3"
  }
 },
 "nbformat": 4,
 "nbformat_minor": 2
}
