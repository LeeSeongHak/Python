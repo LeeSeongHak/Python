{
 "cells": [
  {
   "cell_type": "code",
   "execution_count": 22,
   "metadata": {},
   "outputs": [],
   "source": [
    "import tensorflow as tf\n",
    "import numpy as np\n",
    "import matplotlib.pyplot as plt"
   ]
  },
  {
   "cell_type": "code",
   "execution_count": 24,
   "metadata": {},
   "outputs": [],
   "source": [
    "sess = tf.InteractiveSession()"
   ]
  },
  {
   "cell_type": "code",
   "execution_count": 25,
   "metadata": {},
   "outputs": [],
   "source": [
    "data1 = tf.random_normal([1000]).eval() # 정규분포"
   ]
  },
  {
   "cell_type": "code",
   "execution_count": 26,
   "metadata": {},
   "outputs": [
    {
     "data": {
      "text/plain": [
       "(array([ 1.,  2.,  0.,  1.,  1.,  0.,  1.,  0.,  0.,  0.,  0.,  2.,  0.,\n",
       "         4.,  3.,  2.,  2.,  2.,  1.,  1.,  5.,  7.,  1.,  9.,  6.,  8.,\n",
       "         3.,  8., 13., 10.,  7., 14., 10., 18., 16., 13., 17., 10., 23.,\n",
       "        17., 20., 13., 16., 20., 19., 18., 30., 17., 32., 36., 25., 21.,\n",
       "        18., 24., 16., 23., 23., 22., 25., 23., 19., 15., 21., 22., 15.,\n",
       "        20., 18., 18., 16., 18., 13., 10., 12., 11., 10., 23.,  7.,  6.,\n",
       "         5.,  2., 13.,  4.,  2.,  4.,  3.,  2.,  3.,  1.,  3.,  2.,  1.,\n",
       "         0.,  0.,  0.,  0.,  1.,  0.,  0.,  0.,  1.]),\n",
       " array([-3.129529  , -3.0696447 , -3.0097604 , -2.949876  , -2.8899915 ,\n",
       "        -2.8301072 , -2.770223  , -2.7103386 , -2.6504543 , -2.59057   ,\n",
       "        -2.5306857 , -2.470801  , -2.4109168 , -2.3510325 , -2.2911482 ,\n",
       "        -2.2312639 , -2.1713796 , -2.1114953 , -2.0516107 , -1.9917265 ,\n",
       "        -1.9318421 , -1.8719578 , -1.8120735 , -1.7521892 , -1.6923047 ,\n",
       "        -1.6324204 , -1.5725361 , -1.5126517 , -1.4527674 , -1.3928831 ,\n",
       "        -1.3329988 , -1.2731143 , -1.21323   , -1.1533457 , -1.0934613 ,\n",
       "        -1.033577  , -0.97369266, -0.9138083 , -0.853924  , -0.7940396 ,\n",
       "        -0.7341553 , -0.6742709 , -0.61438656, -0.55450225, -0.4946179 ,\n",
       "        -0.43473357, -0.3748492 , -0.31496486, -0.25508052, -0.19519618,\n",
       "        -0.13531184, -0.0754275 , -0.01554316,  0.04434119,  0.10422553,\n",
       "         0.16410987,  0.22399421,  0.28387856,  0.3437629 ,  0.40364724,\n",
       "         0.46353158,  0.5234159 ,  0.5833003 ,  0.6431846 ,  0.703069  ,\n",
       "         0.7629533 ,  0.82283765,  0.882722  ,  0.94260633,  1.0024906 ,\n",
       "         1.0623751 ,  1.1222594 ,  1.1821437 ,  1.242028  ,  1.3019124 ,\n",
       "         1.3617967 ,  1.421681  ,  1.4815655 ,  1.5414498 ,  1.6013341 ,\n",
       "         1.6612184 ,  1.7211028 ,  1.7809871 ,  1.8408715 ,  1.9007559 ,\n",
       "         1.9606402 ,  2.0205245 ,  2.0804088 ,  2.1402931 ,  2.2001774 ,\n",
       "         2.260062  ,  2.3199463 ,  2.3798306 ,  2.439715  ,  2.4995992 ,\n",
       "         2.5594835 ,  2.6193678 ,  2.6792524 ,  2.7391367 ,  2.799021  ,\n",
       "         2.8589053 ], dtype=float32),\n",
       " <a list of 100 Patch objects>)"
      ]
     },
     "execution_count": 26,
     "metadata": {},
     "output_type": "execute_result"
    },
    {
     "data": {
      "image/png": "[encoded data removed]",
      "text/plain": [
       "<Figure size 432x288 with 1 Axes>"
      ]
     },
     "metadata": {
      "needs_background": "light"
     },
     "output_type": "display_data"
    }
   ],
   "source": [
    "plt.hist(data1, bins=100)"
   ]
  },
  {
   "cell_type": "code",
   "execution_count": 27,
   "metadata": {},
   "outputs": [],
   "source": [
    "plt.show()"
   ]
  },
  {
   "cell_type": "code",
   "execution_count": 28,
   "metadata": {},
   "outputs": [],
   "source": [
    "data2 = tf.random_uniform([1000]).eval() # 0이상의 랜덤 숫자 생성"
   ]
  },
  {
   "cell_type": "code",
   "execution_count": 29,
   "metadata": {},
   "outputs": [
    {
     "data": {
      "text/plain": [
       "array([0.35249805, 0.3951975 , 0.05702162, 0.48359585, 0.32342434,\n",
       "       0.50998867, 0.60598063, 0.5505028 , 0.6363311 , 0.05497944,\n",
       "       0.2204901 , 0.6199857 , 0.23313057, 0.82435393, 0.71055853,\n",
       "       0.7982223 , 0.3552245 , 0.78766716, 0.4672358 , 0.8533256 ,\n",
       "       0.78788245, 0.09262097, 0.42326534, 0.07364118, 0.01923299,\n",
       "       0.68746483, 0.9431169 , 0.08616483, 0.51638055, 0.7685621 ,\n",
       "       0.7349603 , 0.70541096, 0.04722273, 0.01423335, 0.79112494,\n",
       "       0.68289757, 0.68822   , 0.90564334, 0.59995854, 0.64922035,\n",
       "       0.554495  , 0.8881713 , 0.94817805, 0.23996627, 0.39462233,\n",
       "       0.0366447 , 0.84432435, 0.48811638, 0.8892449 , 0.9419892 ,\n",
       "       0.73294127, 0.5875231 , 0.22345376, 0.39123797, 0.88285077,\n",
       "       0.65992427, 0.09056664, 0.7813524 , 0.00283289, 0.5893643 ,\n",
       "       0.65780485, 0.19791019, 0.27987778, 0.7952448 , 0.705358  ,\n",
       "       0.6941552 , 0.617638  , 0.75533116, 0.01257837, 0.12831414,\n",
       "       0.8567444 , 0.81046736, 0.24414206, 0.4991678 , 0.06426549,\n",
       "       0.62442183, 0.65418136, 0.64223325, 0.78534055, 0.275746  ,\n",
       "       0.49413657, 0.36487067, 0.09409451, 0.36668837, 0.88527167,\n",
       "       0.56275797, 0.7070166 , 0.43878722, 0.6872668 , 0.43551016,\n",
       "       0.79764366, 0.29871202, 0.14067423, 0.6947663 , 0.70620286,\n",
       "       0.12970948, 0.5156008 , 0.564855  , 0.8227012 , 0.30884933,\n",
       "       0.65687597, 0.32517898, 0.08989072, 0.47011566, 0.13570285,\n",
       "       0.6826073 , 0.804165  , 0.17455423, 0.8928908 , 0.3565843 ,\n",
       "       0.12383926, 0.6210655 , 0.30043507, 0.80365217, 0.7108947 ,\n",
       "       0.8188629 , 0.685578  , 0.26413965, 0.19232285, 0.06500554,\n",
       "       0.63830316, 0.8621371 , 0.9818735 , 0.35588896, 0.7294556 ,\n",
       "       0.21284759, 0.11280012, 0.51069534, 0.300691  , 0.6604017 ,\n",
       "       0.6043998 , 0.9278096 , 0.16717553, 0.90088487, 0.06595814,\n",
       "       0.73469865, 0.08599257, 0.20788503, 0.09559536, 0.94752514,\n",
       "       0.69118595, 0.6068946 , 0.5999391 , 0.4302051 , 0.96412647,\n",
       "       0.44600618, 0.14245355, 0.48711765, 0.8262924 , 0.11347616,\n",
       "       0.82499206, 0.80049086, 0.1370573 , 0.9091852 , 0.7284318 ,\n",
       "       0.22636127, 0.77393615, 0.29291582, 0.916311  , 0.97578657,\n",
       "       0.21561027, 0.86986256, 0.7336377 , 0.6446892 , 0.9998399 ,\n",
       "       0.25434792, 0.07263708, 0.22047675, 0.8700634 , 0.42285907,\n",
       "       0.42528915, 0.72180486, 0.27693152, 0.94493234, 0.7930169 ,\n",
       "       0.5047898 , 0.3288883 , 0.14466274, 0.71340024, 0.36271298,\n",
       "       0.84173477, 0.24760842, 0.03445971, 0.35035074, 0.8993387 ,\n",
       "       0.3801459 , 0.48646665, 0.43766594, 0.94145703, 0.97394454,\n",
       "       0.9867774 , 0.7224227 , 0.07804751, 0.58393   , 0.6030443 ,\n",
       "       0.54776716, 0.49969065, 0.14666045, 0.42606342, 0.6465211 ,\n",
       "       0.28965402, 0.43953967, 0.11434078, 0.64943063, 0.4099511 ,\n",
       "       0.04866588, 0.2706169 , 0.6178702 , 0.8592551 , 0.5992142 ,\n",
       "       0.40795207, 0.43388033, 0.7428242 , 0.67699647, 0.9492811 ,\n",
       "       0.7342057 , 0.08823693, 0.35994303, 0.79154193, 0.7591486 ,\n",
       "       0.11330974, 0.16876078, 0.14190316, 0.97725546, 0.10560668,\n",
       "       0.747998  , 0.18968797, 0.7635859 , 0.129928  , 0.4634192 ,\n",
       "       0.4087448 , 0.3853327 , 0.02084327, 0.5418496 , 0.217937  ,\n",
       "       0.9640863 , 0.60610557, 0.87805665, 0.5933807 , 0.54155815,\n",
       "       0.71778774, 0.3831141 , 0.6234963 , 0.9628339 , 0.9966872 ,\n",
       "       0.3768096 , 0.9193171 , 0.49663973, 0.45851743, 0.7809515 ,\n",
       "       0.64308643, 0.7697369 , 0.2274015 , 0.03159583, 0.37818646,\n",
       "       0.07925153, 0.42321444, 0.44322526, 0.37281835, 0.12197006,\n",
       "       0.7689091 , 0.7620108 , 0.89574885, 0.7324172 , 0.32992077,\n",
       "       0.45924473, 0.67179537, 0.05597603, 0.43610215, 0.21198666,\n",
       "       0.5736109 , 0.48638892, 0.815922  , 0.5412574 , 0.28391576,\n",
       "       0.42691064, 0.8471086 , 0.72687805, 0.86842704, 0.68518746,\n",
       "       0.98438704, 0.46534896, 0.62378323, 0.25666988, 0.55631995,\n",
       "       0.69928014, 0.95928395, 0.5629569 , 0.21490788, 0.25587308,\n",
       "       0.3191799 , 0.68484926, 0.5395911 , 0.86331856, 0.3123722 ,\n",
       "       0.7228768 , 0.3215593 , 0.08527887, 0.17831719, 0.43163788,\n",
       "       0.23384511, 0.9195272 , 0.49955988, 0.9099922 , 0.9962672 ,\n",
       "       0.58961356, 0.758302  , 0.06901717, 0.8659086 , 0.93491864,\n",
       "       0.93283737, 0.5721679 , 0.6256708 , 0.54789734, 0.66708934,\n",
       "       0.4015591 , 0.67617714, 0.75627196, 0.33992183, 0.9704629 ,\n",
       "       0.9030744 , 0.20242667, 0.1949054 , 0.5921562 , 0.9705404 ,\n",
       "       0.9091598 , 0.7060859 , 0.9714556 , 0.08226275, 0.10169005,\n",
       "       0.16238296, 0.20267165, 0.8501512 , 0.40474725, 0.5727482 ,\n",
       "       0.24302053, 0.84357274, 0.982944  , 0.0520674 , 0.36141133,\n",
       "       0.99833846, 0.723863  , 0.5670407 , 0.35805905, 0.315539  ,\n",
       "       0.10293913, 0.3877095 , 0.65225315, 0.28877616, 0.00138986,\n",
       "       0.646507  , 0.1567471 , 0.28403103, 0.3208139 , 0.99229133,\n",
       "       0.9751271 , 0.15025127, 0.9037951 , 0.17202365, 0.83513427,\n",
       "       0.8372307 , 0.35313487, 0.79996157, 0.6954894 , 0.09234381,\n",
       "       0.14662015, 0.18316615, 0.6920724 , 0.11959934, 0.08862841,\n",
       "       0.25491393, 0.37885594, 0.4906931 , 0.6890615 , 0.8461938 ,\n",
       "       0.537735  , 0.4818914 , 0.4409318 , 0.3954209 , 0.6541711 ,\n",
       "       0.2344147 , 0.36299074, 0.56393933, 0.94591343, 0.66353   ,\n",
       "       0.6779376 , 0.7591258 , 0.3785789 , 0.58424795, 0.29623437,\n",
       "       0.06863344, 0.99515676, 0.6106801 , 0.5605819 , 0.05069828,\n",
       "       0.47476578, 0.14875531, 0.8275157 , 0.65664005, 0.9986503 ,\n",
       "       0.9952744 , 0.5122113 , 0.08580029, 0.22461402, 0.36775744,\n",
       "       0.48293948, 0.19698036, 0.42409146, 0.40935552, 0.1004231 ,\n",
       "       0.16165161, 0.58802116, 0.25270295, 0.7538537 , 0.52937126,\n",
       "       0.9665201 , 0.671028  , 0.53259814, 0.4415977 , 0.7580867 ,\n",
       "       0.71181023, 0.62805736, 0.81409454, 0.5064858 , 0.03128934,\n",
       "       0.5195333 , 0.3836732 , 0.8472309 , 0.9690008 , 0.11982381,\n",
       "       0.13435829, 0.05423021, 0.46221375, 0.91839385, 0.699628  ,\n",
       "       0.09198225, 0.14110339, 0.50014055, 0.15539873, 0.77362335,\n",
       "       0.60432005, 0.4233638 , 0.39798093, 0.23582768, 0.57341325,\n",
       "       0.80291295, 0.9656576 , 0.66010034, 0.18152833, 0.8150197 ,\n",
       "       0.8972223 , 0.8704599 , 0.49322188, 0.37589347, 0.9530531 ,\n",
       "       0.7037014 , 0.78098273, 0.6115265 , 0.8601481 , 0.21023154,\n",
       "       0.10985041, 0.02954805, 0.32841003, 0.6218548 , 0.15876806,\n",
       "       0.3832327 , 0.255502  , 0.9679251 , 0.34142387, 0.85593593,\n",
       "       0.6428989 , 0.557896  , 0.56037855, 0.31869078, 0.04207277,\n",
       "       0.24574316, 0.86358714, 0.25353992, 0.75885403, 0.08723581,\n",
       "       0.28441596, 0.5526656 , 0.59184384, 0.93521106, 0.061342  ,\n",
       "       0.53483045, 0.971061  , 0.80063117, 0.98602796, 0.64725673,\n",
       "       0.2823609 , 0.25221586, 0.00181758, 0.9935626 , 0.7166997 ,\n",
       "       0.8066542 , 0.17051232, 0.52715695, 0.26628435, 0.05851734,\n",
       "       0.6410773 , 0.8318039 , 0.42061758, 0.02529931, 0.94116664,\n",
       "       0.5326288 , 0.20860136, 0.00230312, 0.13682353, 0.39389694,\n",
       "       0.47414565, 0.57141674, 0.7817266 , 0.17736077, 0.19337392,\n",
       "       0.12015414, 0.7726197 , 0.36403167, 0.07048154, 0.53137016,\n",
       "       0.3520584 , 0.9568573 , 0.6957967 , 0.5817952 , 0.6628349 ,\n",
       "       0.2541579 , 0.6051636 , 0.42632055, 0.9821768 , 0.12804079,\n",
       "       0.8532964 , 0.6065217 , 0.87654614, 0.47954583, 0.9368417 ,\n",
       "       0.20599091, 0.14480615, 0.7280884 , 0.62288916, 0.36677754,\n",
       "       0.2389499 , 0.49529457, 0.69930696, 0.638484  , 0.7413833 ,\n",
       "       0.6348436 , 0.5564984 , 0.7912966 , 0.54872096, 0.31754994,\n",
       "       0.6898347 , 0.05368793, 0.1493696 , 0.5045254 , 0.88613844,\n",
       "       0.32401943, 0.721954  , 0.8618871 , 0.36736536, 0.27297938,\n",
       "       0.13003123, 0.76399827, 0.9749801 , 0.06990659, 0.22229123,\n",
       "       0.68345356, 0.6426693 , 0.88697636, 0.9990846 , 0.06436586,\n",
       "       0.48319304, 0.4862455 , 0.17651641, 0.03361845, 0.9294816 ,\n",
       "       0.6117835 , 0.22678316, 0.0643084 , 0.8722491 , 0.4594493 ,\n",
       "       0.7619337 , 0.584278  , 0.82427835, 0.35954094, 0.9145657 ,\n",
       "       0.29295492, 0.01477218, 0.6708057 , 0.85567653, 0.2776091 ,\n",
       "       0.43009686, 0.58843553, 0.67949617, 0.5347891 , 0.26998508,\n",
       "       0.4619857 , 0.5037075 , 0.05876911, 0.02143598, 0.06566584,\n",
       "       0.17471111, 0.10608959, 0.43075466, 0.02798069, 0.40424728,\n",
       "       0.33209896, 0.6254432 , 0.8930483 , 0.95816386, 0.06474459,\n",
       "       0.63701093, 0.2549132 , 0.9338441 , 0.66680455, 0.31185234,\n",
       "       0.43551016, 0.8773614 , 0.27080524, 0.6009271 , 0.97688496,\n",
       "       0.10393369, 0.26520061, 0.4519999 , 0.16334176, 0.03540146,\n",
       "       0.13409913, 0.36223483, 0.31419003, 0.5899817 , 0.7765987 ,\n",
       "       0.3137461 , 0.81828964, 0.40971494, 0.5906626 , 0.7750695 ,\n",
       "       0.47972107, 0.22773433, 0.3550136 , 0.10158157, 0.67149734,\n",
       "       0.4206636 , 0.00394762, 0.45187283, 0.6824306 , 0.93752694,\n",
       "       0.15207589, 0.6266477 , 0.564265  , 0.5698873 , 0.8929174 ,\n",
       "       0.19931507, 0.02129638, 0.09187901, 0.26881135, 0.45071793,\n",
       "       0.3597777 , 0.535409  , 0.7657758 , 0.5839871 , 0.7035371 ,\n",
       "       0.7038028 , 0.04472232, 0.52296984, 0.4063307 , 0.5601816 ,\n",
       "       0.13376343, 0.1779908 , 0.28112924, 0.5978112 , 0.01706076,\n",
       "       0.3034129 , 0.3947693 , 0.94061553, 0.04654765, 0.23012412,\n",
       "       0.8587489 , 0.98017   , 0.4837544 , 0.942549  , 0.44308257,\n",
       "       0.10604608, 0.09034777, 0.5238918 , 0.7501024 , 0.52051675,\n",
       "       0.04169226, 0.68329906, 0.9227692 , 0.38514304, 0.31886637,\n",
       "       0.2500062 , 0.08413172, 0.65901303, 0.9246311 , 0.28043783,\n",
       "       0.5791614 , 0.53662217, 0.8934084 , 0.778584  , 0.42113674,\n",
       "       0.97635114, 0.3981973 , 0.6112112 , 0.08290744, 0.44391036,\n",
       "       0.12745368, 0.72736883, 0.39964378, 0.6599728 , 0.95826614,\n",
       "       0.71266496, 0.11099732, 0.30877864, 0.29628754, 0.5183922 ,\n",
       "       0.25523365, 0.6715641 , 0.2160176 , 0.79466116, 0.7268802 ,\n",
       "       0.9879371 , 0.16738987, 0.19799733, 0.38163173, 0.3345827 ,\n",
       "       0.5275147 , 0.23249078, 0.11650681, 0.15842557, 0.8851458 ,\n",
       "       0.11741841, 0.79243803, 0.5035391 , 0.12049949, 0.74059   ,\n",
       "       0.26236153, 0.09911883, 0.3875425 , 0.7569529 , 0.7007483 ,\n",
       "       0.9513432 , 0.6680623 , 0.9728614 , 0.86179936, 0.44067514,\n",
       "       0.04433954, 0.74961686, 0.77062905, 0.61413646, 0.8578534 ,\n",
       "       0.3289832 , 0.5842415 , 0.58766484, 0.24950564, 0.75654626,\n",
       "       0.25289   , 0.9095335 , 0.08814371, 0.48373353, 0.12256503,\n",
       "       0.4046501 , 0.4062481 , 0.24884367, 0.7807766 , 0.6091385 ,\n",
       "       0.03998518, 0.4729792 , 0.07219553, 0.9273181 , 0.04693079,\n",
       "       0.47224867, 0.17973638, 0.223099  , 0.828727  , 0.9404514 ,\n",
       "       0.05004132, 0.65414166, 0.37605917, 0.67341244, 0.7648349 ,\n",
       "       0.28204346, 0.7891462 , 0.5901637 , 0.65625894, 0.36507845,\n",
       "       0.6339576 , 0.14775443, 0.780774  , 0.45078802, 0.14900613,\n",
       "       0.27880824, 0.9099884 , 0.33596158, 0.00360656, 0.03521419,\n",
       "       0.50019455, 0.49577606, 0.3766632 , 0.3309915 , 0.42141974,\n",
       "       0.43433487, 0.85762   , 0.58576596, 0.96045065, 0.17278993,\n",
       "       0.2843294 , 0.60291255, 0.7811276 , 0.48902953, 0.73369384,\n",
       "       0.52254844, 0.49198306, 0.32041442, 0.9019071 , 0.5536643 ,\n",
       "       0.91318524, 0.6481843 , 0.17657304, 0.4449004 , 0.11258054,\n",
       "       0.60953665, 0.8203553 , 0.4534459 , 0.8944025 , 0.76017225,\n",
       "       0.5179175 , 0.34807944, 0.22968602, 0.92875516, 0.54784274,\n",
       "       0.37012613, 0.9909893 , 0.72216797, 0.56961083, 0.902264  ,\n",
       "       0.6906235 , 0.4603473 , 0.24389434, 0.59696305, 0.93946743,\n",
       "       0.7619679 , 0.20292056, 0.35702848, 0.06591344, 0.5840415 ,\n",
       "       0.9521121 , 0.8685262 , 0.5386486 , 0.74038196, 0.15968525,\n",
       "       0.02474797, 0.6082305 , 0.34958482, 0.63360727, 0.12554824,\n",
       "       0.44392252, 0.7078389 , 0.44294894, 0.4798373 , 0.84070814,\n",
       "       0.7915995 , 0.6299498 , 0.6831367 , 0.94316673, 0.3556447 ,\n",
       "       0.29434967, 0.30477905, 0.1277386 , 0.32979095, 0.5200255 ,\n",
       "       0.01724398, 0.8956562 , 0.18434072, 0.08753443, 0.86098695,\n",
       "       0.2529502 , 0.94149864, 0.9012078 , 0.10543287, 0.12947655,\n",
       "       0.00291646, 0.8698342 , 0.57663596, 0.9180125 , 0.01621985,\n",
       "       0.7209016 , 0.5148896 , 0.05040002, 0.45379817, 0.44749784,\n",
       "       0.00796521, 0.74559   , 0.4802426 , 0.62850916, 0.21307135,\n",
       "       0.24786854, 0.20969701, 0.56473494, 0.36031735, 0.5109093 ,\n",
       "       0.11558175, 0.19538236, 0.69966733, 0.7182239 , 0.216048  ,\n",
       "       0.92386544, 0.9671147 , 0.32297242, 0.60372436, 0.27530432,\n",
       "       0.40192115, 0.53053474, 0.4645983 , 0.3892901 , 0.59820247,\n",
       "       0.13239813, 0.3043095 , 0.29063487, 0.26836812, 0.3271004 ,\n",
       "       0.514645  , 0.92485833, 0.3167976 , 0.82285297, 0.33798325,\n",
       "       0.55624425, 0.8501394 , 0.01988924, 0.5287025 , 0.8458029 ,\n",
       "       0.01007032, 0.5525378 , 0.39950943, 0.154284  , 0.9774082 ,\n",
       "       0.12258589, 0.23262441, 0.47651732, 0.1550802 , 0.4399122 ,\n",
       "       0.22583449, 0.4261465 , 0.96722317, 0.43901217, 0.12152088,\n",
       "       0.44176292, 0.18897426, 0.27585256, 0.10078108, 0.11438084,\n",
       "       0.3727218 , 0.20463812, 0.49384737, 0.43917882, 0.4524932 ,\n",
       "       0.998713  , 0.05721343, 0.6252345 , 0.28992307, 0.1968    ,\n",
       "       0.24550617, 0.20867145, 0.8332939 , 0.31655025, 0.8868679 ,\n",
       "       0.2516625 , 0.26164603, 0.9268234 , 0.09242094, 0.824373  ,\n",
       "       0.7080271 , 0.5355489 , 0.83987725, 0.24409795, 0.07510185,\n",
       "       0.9699701 , 0.18959332, 0.97793806, 0.6187526 , 0.43793416,\n",
       "       0.6859683 , 0.5727576 , 0.9137379 , 0.59590805, 0.08066356,\n",
       "       0.4554906 , 0.9869636 , 0.5470102 , 0.44428492, 0.92183626,\n",
       "       0.98729503, 0.1634022 , 0.94076216, 0.21113431, 0.7413473 ,\n",
       "       0.36334074, 0.7884029 , 0.97484815, 0.20302963, 0.8901063 ],\n",
       "      dtype=float32)"
      ]
     },
     "execution_count": 29,
     "metadata": {},
     "output_type": "execute_result"
    }
   ],
   "source": [
    "data2"
   ]
  },
  {
   "cell_type": "code",
   "execution_count": 30,
   "metadata": {},
   "outputs": [
    {
     "data": {
      "text/plain": [
       "(array([ 9., 10.,  6.,  7., 11.,  9., 13.,  7., 15., 10., 10., 13., 14.,\n",
       "         9., 11.,  8.,  8., 10.,  6.,  9., 11., 11., 11.,  8., 11., 14.,\n",
       "        10.,  9., 11.,  8.,  5., 13., 11.,  6.,  4., 14., 13., 10.,  9.,\n",
       "        10., 12.,  2., 14., 15., 12., 12.,  7.,  9., 12., 13.,  6., 12.,\n",
       "         8., 11.,  9., 10., 10.,  8., 16., 11., 14.,  9., 13.,  7., 12.,\n",
       "        12.,  6., 10., 15., 11., 11.,  8., 13.,  7.,  9., 11., 10.,  7.,\n",
       "        12., 11.,  6.,  6., 10.,  5.,  8., 11., 12.,  6.,  8., 10., 10.,\n",
       "        10., 10.,  7., 15.,  7., 10., 16., 10., 12.]),\n",
       " array([0.00138986, 0.01137436, 0.02135886, 0.03134336, 0.04132786,\n",
       "        0.05131236, 0.06129687, 0.07128137, 0.08126587, 0.09125037,\n",
       "        0.10123487, 0.11121937, 0.12120387, 0.13118836, 0.14117287,\n",
       "        0.15115736, 0.16114187, 0.17112637, 0.18111087, 0.19109537,\n",
       "        0.20107988, 0.21106437, 0.22104888, 0.23103337, 0.24101788,\n",
       "        0.25100237, 0.26098686, 0.27097136, 0.28095588, 0.29094037,\n",
       "        0.30092487, 0.31090936, 0.32089388, 0.33087838, 0.34086287,\n",
       "        0.35084736, 0.3608319 , 0.37081638, 0.38080087, 0.39078537,\n",
       "        0.4007699 , 0.41075438, 0.42073888, 0.43072337, 0.4407079 ,\n",
       "        0.4506924 , 0.46067688, 0.47066137, 0.4806459 , 0.4906304 ,\n",
       "        0.5006149 , 0.5105994 , 0.52058387, 0.53056836, 0.54055285,\n",
       "        0.5505374 , 0.5605219 , 0.5705064 , 0.5804909 , 0.5904754 ,\n",
       "        0.6004599 , 0.61044437, 0.62042886, 0.6304134 , 0.6403979 ,\n",
       "        0.6503824 , 0.6603669 , 0.6703514 , 0.6803359 , 0.6903204 ,\n",
       "        0.70030487, 0.7102894 , 0.7202739 , 0.7302584 , 0.7402429 ,\n",
       "        0.7502274 , 0.7602119 , 0.7701964 , 0.7801809 , 0.79016536,\n",
       "        0.8001499 , 0.8101344 , 0.8201189 , 0.8301034 , 0.8400879 ,\n",
       "        0.8500724 , 0.8600569 , 0.8700414 , 0.8800259 , 0.8900104 ,\n",
       "        0.8999949 , 0.9099794 , 0.9199639 , 0.9299484 , 0.9399329 ,\n",
       "        0.9499174 , 0.9599019 , 0.9698864 , 0.9798709 , 0.9898554 ,\n",
       "        0.9998399 ], dtype=float32),\n",
       " <a list of 100 Patch objects>)"
      ]
     },
     "execution_count": 30,
     "metadata": {},
     "output_type": "execute_result"
    },
    {
     "data": {
      "image/png": "[encoded data removed]",
      "text/plain": [
       "<Figure size 432x288 with 1 Axes>"
      ]
     },
     "metadata": {
      "needs_background": "light"
     },
     "output_type": "display_data"
    }
   ],
   "source": [
    "plt.hist(data2, bins=100)"
   ]
  },
  {
   "cell_type": "markdown",
   "metadata": {},
   "source": [
    "### tf.sum() / tf.reduce_mean()"
   ]
  },
  {
   "cell_type": "code",
   "execution_count": 31,
   "metadata": {},
   "outputs": [
    {
     "data": {
      "text/plain": [
       "3"
      ]
     },
     "execution_count": 31,
     "metadata": {},
     "output_type": "execute_result"
    }
   ],
   "source": [
    "tf.reduce_sum([1, 2], axis=0).eval()"
   ]
  },
  {
   "cell_type": "code",
   "execution_count": 32,
   "metadata": {},
   "outputs": [
    {
     "data": {
      "text/plain": [
       "1"
      ]
     },
     "execution_count": 32,
     "metadata": {},
     "output_type": "execute_result"
    }
   ],
   "source": [
    "tf.reduce_mean([1, 2], axis=0).eval()"
   ]
  },
  {
   "cell_type": "code",
   "execution_count": 33,
   "metadata": {},
   "outputs": [],
   "source": [
    "x = [[1., 2.],\n",
    "    [3., 4.]]"
   ]
  },
  {
   "cell_type": "code",
   "execution_count": 34,
   "metadata": {},
   "outputs": [
    {
     "data": {
      "text/plain": [
       "2.5"
      ]
     },
     "execution_count": 34,
     "metadata": {},
     "output_type": "execute_result"
    }
   ],
   "source": [
    "tf.reduce_mean(x).eval()"
   ]
  },
  {
   "cell_type": "code",
   "execution_count": 35,
   "metadata": {},
   "outputs": [
    {
     "data": {
      "text/plain": [
       "array([1.5, 3.5], dtype=float32)"
      ]
     },
     "execution_count": 35,
     "metadata": {},
     "output_type": "execute_result"
    }
   ],
   "source": [
    "tf.reduce_mean(x, axis=1).eval()"
   ]
  },
  {
   "cell_type": "code",
   "execution_count": 36,
   "metadata": {},
   "outputs": [
    {
     "data": {
      "text/plain": [
       "array([2., 3.], dtype=float32)"
      ]
     },
     "execution_count": 36,
     "metadata": {},
     "output_type": "execute_result"
    }
   ],
   "source": [
    "tf.reduce_mean(x, axis=0).eval()"
   ]
  },
  {
   "cell_type": "markdown",
   "metadata": {},
   "source": [
    "### tf.argmax()"
   ]
  },
  {
   "cell_type": "code",
   "execution_count": null,
   "metadata": {},
   "outputs": [],
   "source": []
  },
  {
   "cell_type": "code",
   "execution_count": null,
   "metadata": {},
   "outputs": [],
   "source": []
  },
  {
   "cell_type": "code",
   "execution_count": null,
   "metadata": {},
   "outputs": [],
   "source": []
  },
  {
   "cell_type": "code",
   "execution_count": null,
   "metadata": {},
   "outputs": [],
   "source": []
  },
  {
   "cell_type": "code",
   "execution_count": null,
   "metadata": {},
   "outputs": [],
   "source": []
  }
 ],
 "metadata": {
  "kernelspec": {
   "display_name": "Python 3",
   "language": "python",
   "name": "python3"
  },
  "language_info": {
   "codemirror_mode": {
    "name": "ipython",
    "version": 3
   },
   "file_extension": ".py",
   "mimetype": "text/x-python",
   "name": "python",
   "nbconvert_exporter": "python",
   "pygments_lexer": "ipython3",
   "version": "3.7.3"
  }
 },
 "nbformat": 4,
 "nbformat_minor": 2
}
