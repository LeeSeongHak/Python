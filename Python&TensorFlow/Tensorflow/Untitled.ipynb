{
 "cells": [
  {
   "cell_type": "markdown",
   "metadata": {},
   "source": [
    "### 분류된 데이터 label이 2개 이상인 경우\n",
    "- softmax()를 이용한다."
   ]
  },
  {
   "cell_type": "code",
   "execution_count": 60,
   "metadata": {},
   "outputs": [],
   "source": [
    "import tensorflow as tf"
   ]
  },
  {
   "cell_type": "code",
   "execution_count": 61,
   "metadata": {},
   "outputs": [],
   "source": [
    "x_data = [[1, 2, 1, 1],\n",
    "          [2, 1, 3, 2],\n",
    "          [3, 1, 3, 4],\n",
    "          [4, 1, 5, 5],\n",
    "          [1, 7, 5, 5],\n",
    "          [1, 2, 5, 6],\n",
    "          [1, 6, 6, 6],\n",
    "          [1, 7, 7, 7]]\n",
    "y_data = [[0, 0, 1],\n",
    "          [0, 0, 1],\n",
    "          [0, 0, 1],\n",
    "          [0, 1, 0],\n",
    "          [0, 1, 0],\n",
    "          [0, 1, 0],\n",
    "          [1, 0, 0],\n",
    "          [1, 0, 0]]"
   ]
  },
  {
   "cell_type": "code",
   "execution_count": 62,
   "metadata": {},
   "outputs": [],
   "source": [
    "col = 4"
   ]
  },
  {
   "cell_type": "code",
   "execution_count": 63,
   "metadata": {},
   "outputs": [],
   "source": [
    "X = tf.placeholder(tf.float32, shape=[None, col])\n",
    "Y = tf.placeholder(tf.float32, shape=[None, 3])"
   ]
  },
  {
   "cell_type": "code",
   "execution_count": 64,
   "metadata": {},
   "outputs": [],
   "source": [
    "w = tf.Variable(tf.truncated_normal([col, 3]), name='weight')\n",
    "b = tf.Variable(tf.truncated_normal([3]), name='bias')"
   ]
  },
  {
   "cell_type": "code",
   "execution_count": 65,
   "metadata": {},
   "outputs": [],
   "source": [
    "hypothesis = tf.nn.softmax(tf.matmul(X, w) + b)"
   ]
  },
  {
   "cell_type": "code",
   "execution_count": 66,
   "metadata": {},
   "outputs": [],
   "source": [
    "cost = - tf.reduce_mean(Y * tf.log(hypothesis) + (1 - Y) * tf.log(1 - hypothesis))"
   ]
  },
  {
   "cell_type": "code",
   "execution_count": 67,
   "metadata": {},
   "outputs": [],
   "source": [
    "train = tf.train.GradientDescentOptimizer(learning_rate = 0.01).minimize(cost)"
   ]
  },
  {
   "cell_type": "code",
   "execution_count": 68,
   "metadata": {},
   "outputs": [],
   "source": [
    "predicted = tf.cast(hypothesis > 0.5, dtype=tf.float32)"
   ]
  },
  {
   "cell_type": "code",
   "execution_count": 69,
   "metadata": {},
   "outputs": [],
   "source": [
    "accuracy = tf.reduce_mean(tf.cast(tf.equal(predicted , Y), dtype = tf.float32))"
   ]
  },
  {
   "cell_type": "code",
   "execution_count": 72,
   "metadata": {},
   "outputs": [
    {
     "name": "stdout",
     "output_type": "stream",
     "text": [
      "0 1.5354401\n",
      "200 0.52195215\n",
      "400 0.48001853\n",
      "600 0.44729862\n",
      "800 0.4224732\n",
      "1000 0.4034495\n",
      "1200 0.38844275\n",
      "1400 0.37622532\n",
      "1600 0.36599484\n",
      "1800 0.35722065\n",
      "2000 0.34954262\n",
      "2200 0.3427094\n",
      "2400 0.3365406\n",
      "2600 0.33090428\n",
      "2800 0.32570112\n",
      "3000 0.32085574\n",
      "3200 0.31630945\n",
      "3400 0.31201622\n",
      "3600 0.30793917\n",
      "3800 0.30404884\n",
      "4000 0.30032113\n",
      "4200 0.29673645\n",
      "4400 0.29327855\n",
      "4600 0.28993365\n",
      "4800 0.28669068\n",
      "\n",
      "Hypothesis :  [[9.3514528e-03 3.3769593e-02 9.5687902e-01]\n",
      " [4.0449183e-03 1.6435553e-01 8.3159953e-01]\n",
      " [9.2992687e-04 3.7740156e-01 6.2166858e-01]\n",
      " [1.9979129e-04 6.7087597e-01 3.2892430e-01]\n",
      " [5.9256464e-01 3.1094578e-01 9.6489601e-02]\n",
      " [2.8958070e-01 7.0502657e-01 5.3926762e-03]\n",
      " [5.9965593e-01 3.8800660e-01 1.2337469e-02]\n",
      " [6.9671017e-01 3.0056888e-01 2.7209583e-03]] \n",
      "Predicted : [[0. 0. 1.]\n",
      " [0. 0. 1.]\n",
      " [0. 0. 1.]\n",
      " [0. 1. 0.]\n",
      " [1. 0. 0.]\n",
      " [0. 1. 0.]\n",
      " [1. 0. 0.]\n",
      " [1. 0. 0.]] \n",
      "Accuracy :  0.9166667\n"
     ]
    }
   ],
   "source": [
    "with tf.Session() as sess :\n",
    "    sess.run(tf.global_variables_initializer())\n",
    "    \n",
    "    for step in range(5000) :\n",
    "        cost_val, _ = sess.run([cost, train], feed_dict={X:x_data, Y:y_data})\n",
    "        \n",
    "        if step % 200 == 0 :\n",
    "            print(step, cost_val)\n",
    "            \n",
    "    hy_val, pre_val, acc_val = sess.run([hypothesis, predicted, accuracy], feed_dict={X:x_data, Y:y_data})\n",
    "    print('\\nHypothesis : ', hy_val, '\\nPredicted :', pre_val, '\\nAccuracy : ', acc_val)"
   ]
  },
  {
   "cell_type": "code",
   "execution_count": null,
   "metadata": {},
   "outputs": [],
   "source": []
  }
 ],
 "metadata": {
  "kernelspec": {
   "display_name": "Python 3",
   "language": "python",
   "name": "python3"
  },
  "language_info": {
   "codemirror_mode": {
    "name": "ipython",
    "version": 3
   },
   "file_extension": ".py",
   "mimetype": "text/x-python",
   "name": "python",
   "nbconvert_exporter": "python",
   "pygments_lexer": "ipython3",
   "version": "3.7.3"
  }
 },
 "nbformat": 4,
 "nbformat_minor": 2
}
